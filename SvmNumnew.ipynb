{
 "cells": [
  {
   "cell_type": "code",
   "execution_count": 3,
   "id": "3a5bf934-4047-45b5-900c-9437c8b6b13d",
   "metadata": {},
   "outputs": [],
   "source": [
    "import os\n",
    "import pandas as pd\n",
    "import numpy as np\n",
    "import matplotlib.pyplot as plt\n",
    "from pathlib import Path \n",
    "import cv2\n",
    "import tensorflow as tf\n",
    "import matplotlib.pyplot as plt\n",
    "from sklearn.utils import shuffle\n",
    "from csv import reader\n",
    "from sklearn import svm\n",
    "from sklearn.model_selection import GridSearchCV\n",
    "from sklearn.metrics import accuracy_score\n",
    "from sklearn.model_selection import train_test_split\n",
    "from sklearn.preprocessing import StandardScaler"
   ]
  },
  {
   "cell_type": "code",
   "execution_count": 4,
   "id": "fb0a4e4f-d8a5-4152-b72d-96e6880c11fb",
   "metadata": {},
   "outputs": [],
   "source": [
    "stars = pd.read_csv('C:/Users/Hazem Elseify/Downloads/6 class csv.csv')\n",
    "X = stars[['Temperature (K)', 'Luminosity(L/Lo)', 'Radius(R/Ro)', 'Absolute magnitude(Mv)']]\n",
    "y = stars[['Star type']]"
   ]
  },
  {
   "cell_type": "code",
   "execution_count": 5,
   "id": "fc5ffd5c-41d5-4f1f-9e61-148c05af1b27",
   "metadata": {},
   "outputs": [],
   "source": [
    "X_train, X_test, y_train, y_test = train_test_split(X, y, test_size=0.33)\n",
    "sc = StandardScaler()\n",
    "X_train = sc.fit_transform(X_train)\n",
    "X_test = sc.transform(X_test)"
   ]
  },
  {
   "cell_type": "code",
   "execution_count": 6,
   "id": "9069ada8-a21d-434a-b916-1026850de7b0",
   "metadata": {},
   "outputs": [],
   "source": [
    "param_grid={'C':[0.1,1,10,100],'gamma':[0.0001,0.001,0.1,1],'kernel':['rbf','poly']}\n",
    "svc=svm.SVC(probability=True)\n",
    "model=GridSearchCV(svc,param_grid)"
   ]
  },
  {
   "cell_type": "code",
   "execution_count": 7,
   "id": "bb71094d-45e8-4be0-86d6-811337e49960",
   "metadata": {},
   "outputs": [
    {
     "name": "stdout",
     "output_type": "stream",
     "text": [
      "The Model is trained well with the given images\n",
      "{'C': 1, 'gamma': 1, 'kernel': 'poly'}\n"
     ]
    }
   ],
   "source": [
    "y_train=np.ravel(y_train)\n",
    "r=model.fit(X_train,y_train)\n",
    "print('The Model is trained well with the given images')\n",
    "print(model.best_params_)"
   ]
  },
  {
   "cell_type": "code",
   "execution_count": 8,
   "id": "29e8cf4e-e2b8-42d3-afcc-a65b3c2d4455",
   "metadata": {},
   "outputs": [
    {
     "name": "stdout",
     "output_type": "stream",
     "text": [
      "The predicted Data is :\n",
      "[3 2 0 3 2 0 4 3 2 2 1 2 1 2 4 5 0 5 1 0 2 0 2 4 3 3 3 3 0 5 2 5 4 0 1 3 4\n",
      " 4 4 5 3 5 0 2 1 5 3 1 4 4 1 2 0 2 1 4 0 2 0 2 2 4 1 3 0 5 1 2 4 4 4 3 5 5\n",
      " 1 5 4 2 5 0]\n",
      "The actual data is:\n",
      "The model is 98.75% accurate\n"
     ]
    }
   ],
   "source": [
    "y_pred=model.predict(X_test)\n",
    "print(\"The predicted Data is :\")\n",
    "print(y_pred)\n",
    "print(\"The actual data is:\")\n",
    "print(f\"The model is {accuracy_score(y_pred,y_test)*100}% accurate\")"
   ]
  },
  {
   "cell_type": "code",
   "execution_count": 9,
   "id": "4ed5e420-9438-499d-aaf4-1e082f9de31d",
   "metadata": {},
   "outputs": [
    {
     "data": {
      "image/png": "[encoded data removed]",
      "text/plain": [
       "<Figure size 432x288 with 2 Axes>"
      ]
     },
     "metadata": {
      "needs_background": "light"
     },
     "output_type": "display_data"
    }
   ],
   "source": [
    "import seaborn as sn\n",
    "y_testnew=[]\n",
    "y_test=y_test.to_numpy()\n",
    "y_test=y_test.tolist()\n",
    "for i in y_test:\n",
    "    for j in i:\n",
    "        y_testnew.append(j)   \n",
    "y_pred=model.predict(X_test)\n",
    "y_actu = pd.Series(y_testnew, name='Actual')\n",
    "y_pred = pd.Series(y_pred,name='Predicted')\n",
    "df_confusion = pd.crosstab(y_actu, y_pred)\n",
    "sn.heatmap(df_confusion, annot=True)\n",
    "plt.show()"
   ]
  },
  {
   "cell_type": "code",
   "execution_count": null,
   "id": "c79f2250-e780-4ebe-9422-cfd5548a07ab",
   "metadata": {},
   "outputs": [],
   "source": []
  }
 ],
 "metadata": {
  "kernelspec": {
   "display_name": "Python 3 (ipykernel)",
   "language": "python",
   "name": "python3"
  },
  "language_info": {
   "codemirror_mode": {
    "name": "ipython",
    "version": 3
   },
   "file_extension": ".py",
   "mimetype": "text/x-python",
   "name": "python",
   "nbconvert_exporter": "python",
   "pygments_lexer": "ipython3",
   "version": "3.8.8"
  }
 },
 "nbformat": 4,
 "nbformat_minor": 5
}
